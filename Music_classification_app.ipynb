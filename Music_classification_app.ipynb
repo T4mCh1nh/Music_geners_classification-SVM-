{
 "cells": [
  {
   "cell_type": "code",
   "execution_count": 15,
   "id": "f4be37b9",
   "metadata": {},
   "outputs": [
    {
     "name": "stdout",
     "output_type": "stream",
     "text": [
      "* Running on local URL:  http://127.0.0.1:7871\n",
      "* To create a public link, set `share=True` in `launch()`.\n"
     ]
    },
    {
     "data": {
      "text/html": [
       "<div><iframe src=\"http://127.0.0.1:7871/\" width=\"100%\" height=\"500\" allow=\"autoplay; camera; microphone; clipboard-read; clipboard-write;\" frameborder=\"0\" allowfullscreen></iframe></div>"
      ],
      "text/plain": [
       "<IPython.core.display.HTML object>"
      ]
     },
     "metadata": {},
     "output_type": "display_data"
    },
    {
     "data": {
      "text/plain": []
     },
     "execution_count": 15,
     "metadata": {},
     "output_type": "execute_result"
    }
   ],
   "source": [
    "import gradio as gr\n",
    "import joblib\n",
    "import librosa\n",
    "import numpy as np\n",
    "\n",
    "# Load model và scaler đã huấn luyện\n",
    "model = joblib.load('svm_model_Music.pkl')\n",
    "scaler = joblib.load('scaler_Music.pkl')\n",
    "\n",
    "def extract_features(file_path):\n",
    "    y, sr = librosa.load(file_path, duration=3.0)\n",
    "\n",
    "    features = []\n",
    "\n",
    "    # 1. length\n",
    "    features.append(float(len(y)))\n",
    "\n",
    "    # 2. Chroma STFT\n",
    "    chroma = librosa.feature.chroma_stft(y=y, sr=sr)\n",
    "    features.append(float(np.mean(chroma)))\n",
    "    features.append(float(np.var(chroma)))\n",
    "\n",
    "    # 3. RMS\n",
    "    rms = librosa.feature.rms(y=y)\n",
    "    features.append(float(np.mean(rms)))\n",
    "    features.append(float(np.var(rms)))\n",
    "\n",
    "    # 4. Spectral Centroid\n",
    "    spec_cent = librosa.feature.spectral_centroid(y=y, sr=sr)\n",
    "    features.append(float(np.mean(spec_cent)))\n",
    "    features.append(float(np.var(spec_cent)))\n",
    "\n",
    "    # 5. Spectral Bandwidth\n",
    "    spec_bw = librosa.feature.spectral_bandwidth(y=y, sr=sr)\n",
    "    features.append(float(np.mean(spec_bw)))\n",
    "    features.append(float(np.var(spec_bw)))\n",
    "\n",
    "    # 6. Spectral Rolloff\n",
    "    rolloff = librosa.feature.spectral_rolloff(y=y, sr=sr)\n",
    "    features.append(float(np.mean(rolloff)))\n",
    "    features.append(float(np.var(rolloff)))\n",
    "\n",
    "    # 7. Zero Crossing Rate\n",
    "    zcr = librosa.feature.zero_crossing_rate(y)\n",
    "    features.append(float(np.mean(zcr)))\n",
    "    features.append(float(np.var(zcr)))\n",
    "\n",
    "    # 8. Harmony (dùng harmonic energy, không phải raw signal)\n",
    "    y_harmonic = librosa.effects.harmonic(y)\n",
    "    features.append(float(np.mean(y_harmonic)))\n",
    "    features.append(float(np.var(y_harmonic)))\n",
    "\n",
    "    # 9. Percussive (perceived rhythm)\n",
    "    y_percussive = librosa.effects.percussive(y)\n",
    "    features.append(float(np.mean(y_percussive)))\n",
    "    features.append(float(np.var(y_percussive)))\n",
    "\n",
    "    # 10. Tempo\n",
    "    tempo, _ = librosa.beat.beat_track(y=y, sr=sr)\n",
    "    features.append(float(tempo))\n",
    "\n",
    "    # 11. MFCCs\n",
    "    mfcc = librosa.feature.mfcc(y=y, sr=sr, n_mfcc=20)\n",
    "    for coeff in mfcc:\n",
    "        features.append(float(np.mean(coeff)))\n",
    "        features.append(float(np.var(coeff)))\n",
    "\n",
    "    return np.array(features)\n",
    "\n",
    "\n",
    "def classify_music(audio_file):\n",
    "    try:\n",
    "        features = extract_features(audio_file)\n",
    "\n",
    "        if scaler:\n",
    "            features = scaler.transform(features.reshape(1, -1))\n",
    "        else:\n",
    "            features = features.reshape(1, -1)\n",
    "\n",
    "        prediction = model.predict(features)[0]\n",
    "        return f\"🎧 **Thể loại dự đoán:** `{prediction}`\"\n",
    "    except Exception as e:\n",
    "        return f\"❌ Lỗi: {str(e)}\"\n",
    "\n",
    "with gr.Blocks(theme=gr.themes.Soft()) as app:\n",
    "    \n",
    "    gr.Markdown(\"\"\"\n",
    "    # 🎵 **Music Genre Classifier**\n",
    "    Upload To Predict to gener.\n",
    "\n",
    "    Support Audio files such as `.wav`, `.mp3`  \n",
    "    \n",
    "    \"\"\")\n",
    "\n",
    "    with gr.Row():\n",
    "        audio_input = gr.Audio(type=\"filepath\", label=\"🎶 Chọn file âm thanh\")\n",
    "        output_text = gr.Markdown()\n",
    "\n",
    "    with gr.Row():\n",
    "        predict_button = gr.Button(\"Predict\")\n",
    "\n",
    "    predict_button.click(fn=classify_music, inputs=audio_input, outputs=output_text)\n",
    "\n",
    "app.launch()"
   ]
  }
 ],
 "metadata": {
  "kernelspec": {
   "display_name": "Python 3",
   "language": "python",
   "name": "python3"
  },
  "language_info": {
   "codemirror_mode": {
    "name": "ipython",
    "version": 3
   },
   "file_extension": ".py",
   "mimetype": "text/x-python",
   "name": "python",
   "nbconvert_exporter": "python",
   "pygments_lexer": "ipython3",
   "version": "3.12.7"
  }
 },
 "nbformat": 4,
 "nbformat_minor": 5
}
